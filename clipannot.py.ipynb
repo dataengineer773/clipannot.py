{
 "cells": [
  {
   "cell_type": "code",
   "execution_count": 1,
   "id": "e5072654-d5fa-4181-ba42-98fa87564176",
   "metadata": {},
   "outputs": [],
   "source": [
    "def clip(text: str, max_len: int = 80) -> str:\n",
    "    \"\"\"Return text clipped to max_len characters without cutting off words.\"\"\"\n",
    "    if len(text) <= max_len:\n",
    "        return text\n",
    "    else:\n",
    "        end = text.rfind(' ', 0, max_len)\n",
    "        if end == -1:\n",
    "            return text[:max_len]\n",
    "        return text[:end]\n"
   ]
  },
  {
   "cell_type": "code",
   "execution_count": 2,
   "id": "a3ab2ee7-ee92-49b6-83ff-599ab9afabd5",
   "metadata": {},
   "outputs": [],
   "source": [
    "with open(\"clip_annot.py\", \"w\") as f:\n",
    "    f.write('''\n",
    "def clip(text: str, max_len: int = 80) -> str:\n",
    "    if len(text) <= max_len:\n",
    "        return text\n",
    "    else:\n",
    "        end = text.rfind(' ', 0, max_len)\n",
    "        if end == -1:\n",
    "            return text[:max_len]\n",
    "        return text[:end]\n",
    "''')\n"
   ]
  },
  {
   "cell_type": "code",
   "execution_count": 3,
   "id": "75c12f59-1bbe-47b6-abb6-8be13c1bfaa7",
   "metadata": {},
   "outputs": [
    {
     "data": {
      "text/plain": [
       "{'text': str, 'max_len': int, 'return': str}"
      ]
     },
     "execution_count": 3,
     "metadata": {},
     "output_type": "execute_result"
    }
   ],
   "source": [
    "from clip_annot import clip\n",
    "clip.__annotations__"
   ]
  },
  {
   "cell_type": "code",
   "execution_count": 4,
   "id": "eabe1d7d-bc28-4605-9256-0884cc6c8277",
   "metadata": {},
   "outputs": [],
   "source": [
    "class Rectangle:\n",
    "    #...lines omittd...\n",
    "    def stretch(self, factor: float) -> 'Rectangle':\n",
    "        return Rectangle(width=self.width * factor)"
   ]
  },
  {
   "cell_type": "code",
   "execution_count": 5,
   "id": "d4e60829-0d01-42f7-a17b-18a96d985b2c",
   "metadata": {},
   "outputs": [],
   "source": [
    "from __future__ import annotations"
   ]
  },
  {
   "cell_type": "code",
   "execution_count": null,
   "id": "8e22a23a-08fb-46ac-a5c6-8e524f9036c3",
   "metadata": {},
   "outputs": [],
   "source": []
  }
 ],
 "metadata": {
  "kernelspec": {
   "display_name": "Python 3 (ipykernel)",
   "language": "python",
   "name": "python3"
  },
  "language_info": {
   "codemirror_mode": {
    "name": "ipython",
    "version": 3
   },
   "file_extension": ".py",
   "mimetype": "text/x-python",
   "name": "python",
   "nbconvert_exporter": "python",
   "pygments_lexer": "ipython3",
   "version": "3.12.3"
  }
 },
 "nbformat": 4,
 "nbformat_minor": 5
}
